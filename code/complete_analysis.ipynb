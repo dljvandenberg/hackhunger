{
 "cells": [
  {
   "cell_type": "markdown",
   "metadata": {},
   "source": [
    "# Introduction\n",
    "\n",
    "## World Food Programme (WFP) hackathon\n",
    "\n",
    "This analysis is for the WFP hackathon organised by DataMission. See http://www.datamission.nl/un-world-food-program-hackathon/ for more info.\n",
    "\n",
    "## Data\n",
    "\n",
    "Info about available datasets is in the wiki, see https://github.com/datamission/WFP/wiki/Datasets-wiki-page. The wiki contains much more info, see https://github.com/datamission/WFP/wiki.\n",
    "\n",
    "\n",
    "## Goals\n",
    "\n",
    "In this notebook we try to achieve the following: \n",
    "* Gain insight into factors influencing Reduced Coping Strategy Index (rCSI) and Food Consumption Score (FCS). See https://github.com/datamission/WFP/wiki/List-of-Acronyms for definitions\n",
    "* Predict rCSI and FCS on more granular spatial level than currently available\n",
    "\n",
    "## Current Questions\n",
    "\n",
    "* What is distribution of food scores vs region, income, city/rural area, ..?\n",
    "* Should we work with aggregated food scores or more granular survey data?\n",
    "* Filter/select regions with enough data before training ML models?\n",
    "\n",
    "\n",
    "## Todo\n",
    "\n",
    "* Preprocess\n",
    "  * Gather data\n",
    "  * Clean data\n",
    "  * Merge data sets on region (where possible) \n",
    "* Exploratory Analysis\n",
    "  * Plot indicators on map\n",
    "  * Plot aggregated survey answers\n",
    "  * Histogram/plot of aggregated survey answers vs indicators\n",
    "* Inference\n",
    "  * Check variance for indicators per region\n",
    "  * Check number of data points per region\n",
    "* Machine Learning\n",
    "  * Regression problem (mean food score per region, percent below certain threshold per region?)\n",
    "  * Convert to classification problem?\n",
    "  * Potentially useful algoritms: Naive Bayes, Decision Tree, Random Forest, KNN, Linear Regression, SVM"
   ]
  },
  {
   "cell_type": "markdown",
   "metadata": {},
   "source": [
    "# Preprocess"
   ]
  },
  {
   "cell_type": "markdown",
   "metadata": {},
   "source": [
    "## Gather data"
   ]
  },
  {
   "cell_type": "code",
   "execution_count": 31,
   "metadata": {
    "collapsed": true
   },
   "outputs": [],
   "source": [
    "# Libraries\n",
    "import os\n",
    "import pandas as pd"
   ]
  },
  {
   "cell_type": "code",
   "execution_count": 32,
   "metadata": {
    "collapsed": false
   },
   "outputs": [
    {
     "data": {
      "text/plain": [
       "'/home/dennis/git/hackhunger/code'"
      ]
     },
     "execution_count": 32,
     "metadata": {},
     "output_type": "execute_result"
    }
   ],
   "source": [
    "# Current dir\n",
    "os.getcwd()"
   ]
  },
  {
   "cell_type": "code",
   "execution_count": 33,
   "metadata": {
    "collapsed": true
   },
   "outputs": [],
   "source": [
    "# Data directories\n",
    "dir_rainfall = \"../data/yemen_rainfall/\"\n",
    "dir_yemen = \"../data/USB/Yemen/\"\n",
    "\n",
    "# Data files\n",
    "file_yem_foodprices_fao = dir_yemen + \"YEM_FAO_FoodPrices.csv\"\n",
    "file_yem_foodprices_wfp = dir_yemen + \"YEM_WFP_FoodPrices_09-05-2016.csv\"\n",
    "file_yem_marketlocations = dir_yemen + \"YEM_WFP_Market-Locations.csv\"\n",
    "file_yem_mvam = dir_yemen + \"mVAM/Data/YEM_WFP_mVAM_RawData.csv\"\n",
    "file_yem_cfss = dir_yemen + \"CFSS/Data/YEM_CFSS_2014.csv\""
   ]
  },
  {
   "cell_type": "code",
   "execution_count": 34,
   "metadata": {
    "collapsed": true
   },
   "outputs": [],
   "source": [
    "# Read data\n",
    "df_yem_foodprices_fao = pd.read_csv(file_yem_foodprices_fao)\n",
    "df_yem_foodprices_wfp = pd.read_csv(file_yem_foodprices_wfp)\n",
    "df_yem_marketlocations = pd.read_csv(file_yem_marketlocations)\n",
    "df_yem_mvam = pd.read_csv(file_yem_mvam)\n",
    "# Error when reading cfss data\n",
    "#df_yem_cfss = pd.read_csv(file_yem_cfss)"
   ]
  },
  {
   "cell_type": "code",
   "execution_count": 40,
   "metadata": {
    "collapsed": false
   },
   "outputs": [],
   "source": [
    "# Quickly explore data\n",
    "#df_yem_foodprices_fao.head(3)\n",
    "#df_yem_foodprices_wfp.head(3)\n",
    "#df_yem_mvam.head(3)"
   ]
  },
  {
   "cell_type": "markdown",
   "metadata": {},
   "source": [
    "## Clean"
   ]
  },
  {
   "cell_type": "markdown",
   "metadata": {},
   "source": [
    "## Merge"
   ]
  },
  {
   "cell_type": "markdown",
   "metadata": {},
   "source": [
    "# Exploratory Analysis"
   ]
  },
  {
   "cell_type": "markdown",
   "metadata": {},
   "source": [
    "# Inference"
   ]
  },
  {
   "cell_type": "markdown",
   "metadata": {},
   "source": [
    "# Machine Learning"
   ]
  },
  {
   "cell_type": "code",
   "execution_count": null,
   "metadata": {
    "collapsed": true
   },
   "outputs": [],
   "source": []
  }
 ],
 "metadata": {
  "kernelspec": {
   "display_name": "Python 3",
   "language": "python",
   "name": "python3"
  },
  "language_info": {
   "codemirror_mode": {
    "name": "ipython",
    "version": 3
   },
   "file_extension": ".py",
   "mimetype": "text/x-python",
   "name": "python",
   "nbconvert_exporter": "python",
   "pygments_lexer": "ipython3",
   "version": "3.5.1"
  }
 },
 "nbformat": 4,
 "nbformat_minor": 0
}
