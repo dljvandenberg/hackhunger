{
 "cells": [
  {
   "cell_type": "markdown",
   "metadata": {},
   "source": [
    "# WFP hackathon\n",
    "\n",
    "This page is for the WFP hackathon organised by DataMission. See http://www.datamission.nl/un-world-food-program-hackathon/ for more info.\n",
    "\n",
    "Info about available datasets is in the wiki, see https://github.com/datamission/WFP/wiki/Datasets-wiki-page. The wiki contains much more info, see https://github.com/datamission/WFP/wiki.\n",
    "\n",
    "\n",
    "# Goals\n",
    "\n",
    "* Gain insight into factors influencing Reduced Coping Strategy Index (rCSI) and Food Consumption Score (FCS). See https://github.com/datamission/WFP/wiki/List-of-Acronyms for definitions\n",
    "* Predict rCSI and FCS on more granular spatial level than currently available\n",
    "\n",
    "\n",
    "# Questions\n",
    "\n",
    "* What is distribution of food scores vs region, income, city/rural area, ..?\n",
    "* Should we work with aggregated food scores or more granular survey data?\n",
    "* Filter/select regions with enough data before training ML models?\n",
    "\n",
    "\n",
    "# Todo\n",
    "\n",
    "* Create Jupyter notebook (Python)\n",
    "* Preprocess\n",
    "  * Gather data\n",
    "  * Clean data\n",
    "  * Join data sets on region (where possible) \n",
    "* Exploratory Analysis\n",
    "  * Plot indicators on map\n",
    "  * Plot aggregated survey answers\n",
    "  * Histogram/plot of aggregated survey answers vs indicators\n",
    "* Perform Inference\n",
    "  * Check variance for indicators per region\n",
    "  * Check number of data points per region\n",
    "* Machine Learning\n",
    "  * Regression problem (mean food score per region, percent below certain threshold per region?)\n",
    "  * Convert to classification problem?\n",
    "  * Potentially useful algoritms: Naive Bayes, Decision Tree, Random Forest, KNN, Linear Regression, SVM\n",
    "\n",
    "## Read data"
   ]
  },
  {
   "cell_type": "markdown",
   "metadata": {},
   "source": [
    "## Clean data"
   ]
  },
  {
   "cell_type": "markdown",
   "metadata": {},
   "source": [
    "## Merge"
   ]
  },
  {
   "cell_type": "markdown",
   "metadata": {},
   "source": [
    "## Explore"
   ]
  },
  {
   "cell_type": "markdown",
   "metadata": {},
   "source": [
    "## Machine Learning"
   ]
  },
  {
   "cell_type": "code",
   "execution_count": null,
   "metadata": {
    "collapsed": true
   },
   "outputs": [],
   "source": []
  }
 ],
 "metadata": {
  "kernelspec": {
   "display_name": "Python 3",
   "language": "python",
   "name": "python3"
  },
  "language_info": {
   "codemirror_mode": {
    "name": "ipython",
    "version": 3
   },
   "file_extension": ".py",
   "mimetype": "text/x-python",
   "name": "python",
   "nbconvert_exporter": "python",
   "pygments_lexer": "ipython3",
   "version": "3.5.1"
  }
 },
 "nbformat": 4,
 "nbformat_minor": 0
}
